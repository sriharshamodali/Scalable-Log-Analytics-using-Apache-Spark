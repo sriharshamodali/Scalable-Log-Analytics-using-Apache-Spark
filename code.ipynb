{
 "cells": [
  {
   "cell_type": "code",
   "execution_count": 2,
   "metadata": {},
   "outputs": [],
   "source": [
    "from pyspark.context import SparkContext\n",
    "from pyspark.sql.context import SQLContext\n",
    "from pyspark.sql.session import SparkSession"
   ]
  },
  {
   "cell_type": "code",
   "execution_count": 3,
   "metadata": {},
   "outputs": [],
   "source": [
    "sc = SparkContext()\n",
    "sqlContext = SQLContext(sc)\n",
    "spark = SparkSession(sc)"
   ]
  },
  {
   "cell_type": "code",
   "execution_count": 5,
   "metadata": {},
   "outputs": [],
   "source": [
    "import re\n",
    "import pandas as pd\n",
    "import glob"
   ]
  },
  {
   "cell_type": "code",
   "execution_count": 8,
   "metadata": {},
   "outputs": [],
   "source": [
    "data_files = glob.glob('*.gz')\n",
    "df = spark.read.text(data_files)"
   ]
  },
  {
   "cell_type": "code",
   "execution_count": 28,
   "metadata": {},
   "outputs": [],
   "source": [
    "host_pattern = r'(^\\S+\\.[\\S+\\.]+\\S+)\\s'\n",
    "ts_pattern = r'\\[(\\d{2}/\\w{3}/\\d{4}:\\d{2}:\\d{2}:\\d{2} -\\d{4})]'\n",
    "method_uri_protocol_pattern = r'\\\"(\\S+)\\s(\\S+)\\s*(\\S*)\\\"'\n",
    "status_pattern = r'\\s(\\d{3})\\s'\n",
    "content_size_pattern = r'\\s(\\d+)$'"
   ]
  },
  {
   "cell_type": "code",
   "execution_count": 24,
   "metadata": {},
   "outputs": [],
   "source": [
    "from pyspark.sql.functions import regexp_extract"
   ]
  },
  {
   "cell_type": "code",
   "execution_count": 57,
   "metadata": {},
   "outputs": [],
   "source": [
    "df_logs = df.select(regexp_extract('value', host_pattern, 1).alias('host'),\n",
    "                   regexp_extract('value', ts_pattern, 1).alias('timestamp'),\n",
    "                   regexp_extract('value', method_uri_protocol_pattern, 1).alias('method'),\n",
    "                   regexp_extract('value', method_uri_protocol_pattern, 2).alias('endpoint'),\n",
    "                   regexp_extract('value', method_uri_protocol_pattern, 3).alias('protocol'),\n",
    "                   regexp_extract('value', status_pattern, 1).cast('integer').alias('status'),\n",
    "                   regexp_extract('value', content_size_pattern, 1).cast('integer').alias('content_size'))"
   ]
  },
  {
   "cell_type": "code",
   "execution_count": 58,
   "metadata": {},
   "outputs": [
    {
     "data": {
      "text/plain": [
       "[Row(host='199.72.81.55', timestamp='01/Jul/1995:00:00:01 -0400', method='GET', endpoint='/history/apollo/', protocol='HTTP/1.0', status=200, content_size=6245),\n",
       " Row(host='unicomp6.unicomp.net', timestamp='01/Jul/1995:00:00:06 -0400', method='GET', endpoint='/shuttle/countdown/', protocol='HTTP/1.0', status=200, content_size=3985),\n",
       " Row(host='199.120.110.21', timestamp='01/Jul/1995:00:00:09 -0400', method='GET', endpoint='/shuttle/missions/sts-73/mission-sts-73.html', protocol='HTTP/1.0', status=200, content_size=4085),\n",
       " Row(host='burger.letters.com', timestamp='01/Jul/1995:00:00:11 -0400', method='GET', endpoint='/shuttle/countdown/liftoff.html', protocol='HTTP/1.0', status=304, content_size=0),\n",
       " Row(host='199.120.110.21', timestamp='01/Jul/1995:00:00:11 -0400', method='GET', endpoint='/shuttle/missions/sts-73/sts-73-patch-small.gif', protocol='HTTP/1.0', status=200, content_size=4179)]"
      ]
     },
     "execution_count": 58,
     "metadata": {},
     "output_type": "execute_result"
    }
   ],
   "source": [
    "df_logs.take(5)"
   ]
  },
  {
   "cell_type": "code",
   "execution_count": null,
   "metadata": {},
   "outputs": [],
   "source": []
  }
 ],
 "metadata": {
  "kernelspec": {
   "display_name": "Python 3",
   "language": "python",
   "name": "python3"
  },
  "language_info": {
   "codemirror_mode": {
    "name": "ipython",
    "version": 3
   },
   "file_extension": ".py",
   "mimetype": "text/x-python",
   "name": "python",
   "nbconvert_exporter": "python",
   "pygments_lexer": "ipython3",
   "version": "3.7.3"
  }
 },
 "nbformat": 4,
 "nbformat_minor": 2
}
